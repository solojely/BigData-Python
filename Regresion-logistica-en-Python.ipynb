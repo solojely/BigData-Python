{
 "cells": [
  {
   "cell_type": "markdown",
   "metadata": {
    "id": "bGNxvH2jDzCz"
   },
   "source": [
    "![](Cintilla.png)\n",
    "\n",
    "# Analisis Inteligentes de Datos\n",
    "## Regresión logística visitas a un sitio WEB\n",
    "\n",
    "## Nombre Del Docente\n",
    "### Pizarro Gurrola Ruben\n",
    "\n",
    "## Nombre Del Alumno\n",
    "### Karla Jelitza Bermudez Nuñez\n"
   ]
  },
  {
   "cell_type": "markdown",
   "metadata": {
    "id": "mfBk6S_qD517"
   },
   "source": [
    "### Objetivo\n",
    "\n",
    "Alicar el algoritmo de regresión logística para clasificar si un usuario con ciertas características reñacionadoas con las visitas a un sitio WEB  utiliza como sistema operativo Windows, Macintosh o Linux.\n",
    "\n",
    "### Descripcíon\n",
    "\n",
    "Se utilIza mediante comandos e instrucciones de Python el algorotmo regresión logística para clasificar si un usuario con ciertas características relacionadoas con las visitas a un sitio WEB  utiliza como sistema operativo Windows, Macintosh o Linux.\n",
    "\n",
    "### Fundamento teórico\n",
    "\n",
    "¿Que son los algortimos de clasificación?\n",
    "\n",
    "¿En dónde se aplican los algoritmos de clasificación?\n",
    "\n",
    "¿Algunos ejemplos de aplicación de algoritmos de clasificación?\n",
    "\n",
    "A partir de un conjunto de datos de entrada (características), se puede clasificar conforme a una etiqueta de salida, se puede utilizar un algoritmo regresión logística para claisificar datos. \n",
    "\n",
    "La regresión logística es un algoritmo supervisado y se utiliza para clasificación. Las etiquetas pueden ser “SI/NO”: binario o un número finito de \"valores\" o \"etiquetas\" o \"clases\": múltiple. [Bagnato, 2020]\n",
    "\n",
    "Un algorimto de clasificación es el proceso de identificar categoría de observación (establecido) sobre la base de la formación del conjunto de datos que contiene observaciones de las cuales las\n",
    "categorías son desconocidas [Suca, 2016].\n"
   ]
  },
  {
   "cell_type": "markdown",
   "metadata": {
    "id": "pnlHYZ3MEAxD"
   },
   "source": [
    "#### 1. Cargar librerías"
   ]
  },
  {
   "cell_type": "code",
   "execution_count": 1,
   "metadata": {
    "executionInfo": {
     "elapsed": 1606,
     "status": "ok",
     "timestamp": 1606956403118,
     "user": {
      "displayName": "JESUS EDUARDO GARCIA ALARCON",
      "photoUrl": "",
      "userId": "12415586076040389331"
     },
     "user_tz": 360
    },
    "id": "bNeyf_7tEJKe"
   },
   "outputs": [],
   "source": [
    "import pandas as pd\n",
    "import numpy as np\n",
    "from sklearn import linear_model\n",
    "from sklearn import model_selection\n",
    "from sklearn.metrics import classification_report\n",
    "from sklearn.metrics import confusion_matrix\n",
    "from sklearn.metrics import accuracy_score\n",
    "import matplotlib.pyplot as plt\n",
    "import seaborn as sb\n",
    "%matplotlib inline"
   ]
  },
  {
   "cell_type": "markdown",
   "metadata": {
    "id": "e3X6TKCoEQEI"
   },
   "source": [
    "#### 2. Cargar datos\n",
    "\n",
    "* Mostrar los primeros cinco registros"
   ]
  },
  {
   "cell_type": "code",
   "execution_count": 5,
   "metadata": {
    "colab": {
     "base_uri": "https://localhost:8080/",
     "height": 204
    },
    "executionInfo": {
     "elapsed": 448,
     "status": "ok",
     "timestamp": 1606957043384,
     "user": {
      "displayName": "JESUS EDUARDO GARCIA ALARCON",
      "photoUrl": "",
      "userId": "12415586076040389331"
     },
     "user_tz": 360
    },
    "id": "1BhBP7o4ETEc",
    "outputId": "28d64f3f-457b-4d4f-d53c-1870a2eda063"
   },
   "outputs": [
    {
     "data": {
      "text/html": [
       "<div>\n",
       "<style scoped>\n",
       "    .dataframe tbody tr th:only-of-type {\n",
       "        vertical-align: middle;\n",
       "    }\n",
       "\n",
       "    .dataframe tbody tr th {\n",
       "        vertical-align: top;\n",
       "    }\n",
       "\n",
       "    .dataframe thead th {\n",
       "        text-align: right;\n",
       "    }\n",
       "</style>\n",
       "<table border=\"1\" class=\"dataframe\">\n",
       "  <thead>\n",
       "    <tr style=\"text-align: right;\">\n",
       "      <th></th>\n",
       "      <th>duracion</th>\n",
       "      <th>paginas</th>\n",
       "      <th>acciones</th>\n",
       "      <th>valor</th>\n",
       "      <th>clase</th>\n",
       "    </tr>\n",
       "  </thead>\n",
       "  <tbody>\n",
       "    <tr>\n",
       "      <th>0</th>\n",
       "      <td>7.0</td>\n",
       "      <td>2</td>\n",
       "      <td>4</td>\n",
       "      <td>8</td>\n",
       "      <td>2</td>\n",
       "    </tr>\n",
       "    <tr>\n",
       "      <th>1</th>\n",
       "      <td>21.0</td>\n",
       "      <td>2</td>\n",
       "      <td>6</td>\n",
       "      <td>6</td>\n",
       "      <td>2</td>\n",
       "    </tr>\n",
       "    <tr>\n",
       "      <th>2</th>\n",
       "      <td>57.0</td>\n",
       "      <td>2</td>\n",
       "      <td>4</td>\n",
       "      <td>4</td>\n",
       "      <td>2</td>\n",
       "    </tr>\n",
       "    <tr>\n",
       "      <th>3</th>\n",
       "      <td>101.0</td>\n",
       "      <td>3</td>\n",
       "      <td>6</td>\n",
       "      <td>12</td>\n",
       "      <td>2</td>\n",
       "    </tr>\n",
       "    <tr>\n",
       "      <th>4</th>\n",
       "      <td>109.0</td>\n",
       "      <td>2</td>\n",
       "      <td>6</td>\n",
       "      <td>12</td>\n",
       "      <td>2</td>\n",
       "    </tr>\n",
       "  </tbody>\n",
       "</table>\n",
       "</div>"
      ],
      "text/plain": [
       "   duracion  paginas  acciones  valor  clase\n",
       "0       7.0        2         4      8      2\n",
       "1      21.0        2         6      6      2\n",
       "2      57.0        2         4      4      2\n",
       "3     101.0        3         6     12      2\n",
       "4     109.0        2         6     12      2"
      ]
     },
     "execution_count": 5,
     "metadata": {
      "tags": []
     },
     "output_type": "execute_result"
    }
   ],
   "source": [
    "dataframe = pd.read_csv(\"usuarios_win_mac_lin.csv\")\n",
    "dataframe.head()\n"
   ]
  },
  {
   "cell_type": "markdown",
   "metadata": {
    "id": "0PdvL6pFGuTZ"
   },
   "source": [
    "* Mostrar los últimos cinco registros"
   ]
  },
  {
   "cell_type": "code",
   "execution_count": 6,
   "metadata": {
    "colab": {
     "base_uri": "https://localhost:8080/",
     "height": 204
    },
    "executionInfo": {
     "elapsed": 467,
     "status": "ok",
     "timestamp": 1606957078887,
     "user": {
      "displayName": "JESUS EDUARDO GARCIA ALARCON",
      "photoUrl": "",
      "userId": "12415586076040389331"
     },
     "user_tz": 360
    },
    "id": "lAGdPKsWGvj8",
    "outputId": "742d0e91-4848-4f12-9518-b2f3f5279513"
   },
   "outputs": [
    {
     "data": {
      "text/html": [
       "<div>\n",
       "<style scoped>\n",
       "    .dataframe tbody tr th:only-of-type {\n",
       "        vertical-align: middle;\n",
       "    }\n",
       "\n",
       "    .dataframe tbody tr th {\n",
       "        vertical-align: top;\n",
       "    }\n",
       "\n",
       "    .dataframe thead th {\n",
       "        text-align: right;\n",
       "    }\n",
       "</style>\n",
       "<table border=\"1\" class=\"dataframe\">\n",
       "  <thead>\n",
       "    <tr style=\"text-align: right;\">\n",
       "      <th></th>\n",
       "      <th>duracion</th>\n",
       "      <th>paginas</th>\n",
       "      <th>acciones</th>\n",
       "      <th>valor</th>\n",
       "      <th>clase</th>\n",
       "    </tr>\n",
       "  </thead>\n",
       "  <tbody>\n",
       "    <tr>\n",
       "      <th>165</th>\n",
       "      <td>13.0</td>\n",
       "      <td>1</td>\n",
       "      <td>7</td>\n",
       "      <td>42</td>\n",
       "      <td>0</td>\n",
       "    </tr>\n",
       "    <tr>\n",
       "      <th>166</th>\n",
       "      <td>12.0</td>\n",
       "      <td>1</td>\n",
       "      <td>2</td>\n",
       "      <td>6</td>\n",
       "      <td>0</td>\n",
       "    </tr>\n",
       "    <tr>\n",
       "      <th>167</th>\n",
       "      <td>13.0</td>\n",
       "      <td>1</td>\n",
       "      <td>3</td>\n",
       "      <td>9</td>\n",
       "      <td>0</td>\n",
       "    </tr>\n",
       "    <tr>\n",
       "      <th>168</th>\n",
       "      <td>13.0</td>\n",
       "      <td>1</td>\n",
       "      <td>7</td>\n",
       "      <td>28</td>\n",
       "      <td>0</td>\n",
       "    </tr>\n",
       "    <tr>\n",
       "      <th>169</th>\n",
       "      <td>12.0</td>\n",
       "      <td>1</td>\n",
       "      <td>6</td>\n",
       "      <td>18</td>\n",
       "      <td>0</td>\n",
       "    </tr>\n",
       "  </tbody>\n",
       "</table>\n",
       "</div>"
      ],
      "text/plain": [
       "     duracion  paginas  acciones  valor  clase\n",
       "165      13.0        1         7     42      0\n",
       "166      12.0        1         2      6      0\n",
       "167      13.0        1         3      9      0\n",
       "168      13.0        1         7     28      0\n",
       "169      12.0        1         6     18      0"
      ]
     },
     "execution_count": 6,
     "metadata": {
      "tags": []
     },
     "output_type": "execute_result"
    }
   ],
   "source": [
    "dataframe.tail()"
   ]
  },
  {
   "cell_type": "markdown",
   "metadata": {
    "id": "mfZSFtW8G2s8"
   },
   "source": [
    "#### 3. Descripción de los datos\n",
    "\n",
    "La llamada clase es la etiqueta o variable dependiente tipo discreta que puede tener los siguientes valores:\n",
    "* 0 - Windows\n",
    "* 1 - Macintosh\n",
    "* 2 - Linux\n",
    "\n",
    "Las variables independientes son:\n",
    "* Duración de la visita en segundos\n",
    "* Cantidad de páginas vistas durante la Sesión\n",
    "* Cantidad de acciones del usuario (click, scroll, uso de checkbox, sliders,etc)\n",
    "* Suma del valor de las acciones (cada acción lleva asociada una valoración de importancia)"
   ]
  },
  {
   "cell_type": "code",
   "execution_count": 7,
   "metadata": {
    "colab": {
     "base_uri": "https://localhost:8080/",
     "height": 297
    },
    "executionInfo": {
     "elapsed": 491,
     "status": "ok",
     "timestamp": 1606957114659,
     "user": {
      "displayName": "JESUS EDUARDO GARCIA ALARCON",
      "photoUrl": "",
      "userId": "12415586076040389331"
     },
     "user_tz": 360
    },
    "id": "_gDvIUQZG5Ph",
    "outputId": "3b2ca1a8-e4d5-4e8d-89b1-e6aeecfb7344"
   },
   "outputs": [
    {
     "data": {
      "text/html": [
       "<div>\n",
       "<style scoped>\n",
       "    .dataframe tbody tr th:only-of-type {\n",
       "        vertical-align: middle;\n",
       "    }\n",
       "\n",
       "    .dataframe tbody tr th {\n",
       "        vertical-align: top;\n",
       "    }\n",
       "\n",
       "    .dataframe thead th {\n",
       "        text-align: right;\n",
       "    }\n",
       "</style>\n",
       "<table border=\"1\" class=\"dataframe\">\n",
       "  <thead>\n",
       "    <tr style=\"text-align: right;\">\n",
       "      <th></th>\n",
       "      <th>duracion</th>\n",
       "      <th>paginas</th>\n",
       "      <th>acciones</th>\n",
       "      <th>valor</th>\n",
       "      <th>clase</th>\n",
       "    </tr>\n",
       "  </thead>\n",
       "  <tbody>\n",
       "    <tr>\n",
       "      <th>count</th>\n",
       "      <td>170.000000</td>\n",
       "      <td>170.000000</td>\n",
       "      <td>170.000000</td>\n",
       "      <td>170.000000</td>\n",
       "      <td>170.000000</td>\n",
       "    </tr>\n",
       "    <tr>\n",
       "      <th>mean</th>\n",
       "      <td>111.075729</td>\n",
       "      <td>2.041176</td>\n",
       "      <td>8.723529</td>\n",
       "      <td>32.676471</td>\n",
       "      <td>0.752941</td>\n",
       "    </tr>\n",
       "    <tr>\n",
       "      <th>std</th>\n",
       "      <td>202.453200</td>\n",
       "      <td>1.500911</td>\n",
       "      <td>9.136054</td>\n",
       "      <td>44.751993</td>\n",
       "      <td>0.841327</td>\n",
       "    </tr>\n",
       "    <tr>\n",
       "      <th>min</th>\n",
       "      <td>1.000000</td>\n",
       "      <td>1.000000</td>\n",
       "      <td>1.000000</td>\n",
       "      <td>1.000000</td>\n",
       "      <td>0.000000</td>\n",
       "    </tr>\n",
       "    <tr>\n",
       "      <th>25%</th>\n",
       "      <td>11.000000</td>\n",
       "      <td>1.000000</td>\n",
       "      <td>3.000000</td>\n",
       "      <td>8.000000</td>\n",
       "      <td>0.000000</td>\n",
       "    </tr>\n",
       "    <tr>\n",
       "      <th>50%</th>\n",
       "      <td>13.000000</td>\n",
       "      <td>2.000000</td>\n",
       "      <td>6.000000</td>\n",
       "      <td>20.000000</td>\n",
       "      <td>0.000000</td>\n",
       "    </tr>\n",
       "    <tr>\n",
       "      <th>75%</th>\n",
       "      <td>108.000000</td>\n",
       "      <td>2.000000</td>\n",
       "      <td>10.000000</td>\n",
       "      <td>36.000000</td>\n",
       "      <td>2.000000</td>\n",
       "    </tr>\n",
       "    <tr>\n",
       "      <th>max</th>\n",
       "      <td>898.000000</td>\n",
       "      <td>9.000000</td>\n",
       "      <td>63.000000</td>\n",
       "      <td>378.000000</td>\n",
       "      <td>2.000000</td>\n",
       "    </tr>\n",
       "  </tbody>\n",
       "</table>\n",
       "</div>"
      ],
      "text/plain": [
       "         duracion     paginas    acciones       valor       clase\n",
       "count  170.000000  170.000000  170.000000  170.000000  170.000000\n",
       "mean   111.075729    2.041176    8.723529   32.676471    0.752941\n",
       "std    202.453200    1.500911    9.136054   44.751993    0.841327\n",
       "min      1.000000    1.000000    1.000000    1.000000    0.000000\n",
       "25%     11.000000    1.000000    3.000000    8.000000    0.000000\n",
       "50%     13.000000    2.000000    6.000000   20.000000    0.000000\n",
       "75%    108.000000    2.000000   10.000000   36.000000    2.000000\n",
       "max    898.000000    9.000000   63.000000  378.000000    2.000000"
      ]
     },
     "execution_count": 7,
     "metadata": {
      "tags": []
     },
     "output_type": "execute_result"
    }
   ],
   "source": [
    "dataframe.describe()"
   ]
  },
  {
   "cell_type": "markdown",
   "metadata": {
    "id": "7ZDXHHA3G9qr"
   },
   "source": [
    "* ¿Cuál es la cantidad de registros de clase 0, 1 y 2?"
   ]
  },
  {
   "cell_type": "code",
   "execution_count": 8,
   "metadata": {
    "colab": {
     "base_uri": "https://localhost:8080/"
    },
    "executionInfo": {
     "elapsed": 483,
     "status": "ok",
     "timestamp": 1606957142960,
     "user": {
      "displayName": "JESUS EDUARDO GARCIA ALARCON",
      "photoUrl": "",
      "userId": "12415586076040389331"
     },
     "user_tz": 360
    },
    "id": "GrULrudnHAiW",
    "outputId": "98a8c2c7-195f-4735-bdfc-ed4b14eecd2d"
   },
   "outputs": [
    {
     "name": "stdout",
     "output_type": "stream",
     "text": [
      "clase\n",
      "0    86\n",
      "1    40\n",
      "2    44\n",
      "dtype: int64\n"
     ]
    }
   ],
   "source": [
    "print(dataframe.groupby('clase').size())"
   ]
  },
  {
   "cell_type": "markdown",
   "metadata": {
    "id": "71fD4xgoHD_a"
   },
   "source": [
    "#### 4. Visualizar datos\n",
    "\n",
    "Se presentan los histogramas de las características y variables independientes del conjunto de datos: duración, páginas, aciones, valor.\n",
    "Siendo estas variables numéricas el diagrama recomendable es el histograma"
   ]
  },
  {
   "cell_type": "code",
   "execution_count": 9,
   "metadata": {
    "colab": {
     "base_uri": "https://localhost:8080/",
     "height": 281
    },
    "executionInfo": {
     "elapsed": 979,
     "status": "ok",
     "timestamp": 1606957170161,
     "user": {
      "displayName": "JESUS EDUARDO GARCIA ALARCON",
      "photoUrl": "",
      "userId": "12415586076040389331"
     },
     "user_tz": 360
    },
    "id": "g5OWjMPzHG9w",
    "outputId": "4f55a235-0c23-42e4-b5c0-12cceeb6fbde"
   },
   "outputs": [
    {
     "data": {
      "image/png": "[encoded data removed]",
      "text/plain": [
       "<Figure size 432x288 with 4 Axes>"
      ]
     },
     "metadata": {
      "needs_background": "light",
      "tags": []
     },
     "output_type": "display_data"
    }
   ],
   "source": [
    "dataframe.drop(['clase'],1).hist()\n",
    "plt.show()"
   ]
  },
  {
   "cell_type": "markdown",
   "metadata": {
    "id": "T-EPDL_7HJ25"
   },
   "source": [
    "Se muestra la interrelación de las entradas de a pares, para ver como se concentran linealmente\n",
    "las salidas de usuarios por colores: Sistema Operativo Windows en azul, Macintosh en verde y Linux\n",
    "en rojo."
   ]
  },
  {
   "cell_type": "code",
   "execution_count": 10,
   "metadata": {
    "colab": {
     "base_uri": "https://localhost:8080/",
     "height": 935
    },
    "executionInfo": {
     "elapsed": 11672,
     "status": "ok",
     "timestamp": 1606957201163,
     "user": {
      "displayName": "JESUS EDUARDO GARCIA ALARCON",
      "photoUrl": "",
      "userId": "12415586076040389331"
     },
     "user_tz": 360
    },
    "id": "FhoLtqhYHMMo",
    "outputId": "8c33deea-dcca-4242-e081-9aa6f591c1b1"
   },
   "outputs": [
    {
     "data": {
      "text/plain": [
       "<seaborn.axisgrid.PairGrid at 0x7f9b6ba1e860>"
      ]
     },
     "execution_count": 10,
     "metadata": {
      "tags": []
     },
     "output_type": "execute_result"
    },
    {
     "data": {
      "image/png": "[encoded data removed]",
      "text/plain": [
       "<Figure size 1194.38x1152 with 20 Axes>"
      ]
     },
     "metadata": {
      "needs_background": "light",
      "tags": []
     },
     "output_type": "display_data"
    }
   ],
   "source": [
    "import warnings\n",
    "warnings.filterwarnings(\"ignore\")\n",
    "sb.pairplot(dataframe.dropna(), hue='clase',size=4,vars=[\"duracion\", \"paginas\",\"acciones\",\"valor\"],kind='reg')"
   ]
  },
  {
   "cell_type": "markdown",
   "metadata": {
    "id": "EMwrhb2IHUbL"
   },
   "source": [
    "#### Modelo de Regresión Logística\n",
    "Se cargan las variables de las 4 columnas de entrada en X excluyendo la columna “clase” con el método drop(). En cambio se agrega la columna “clase” en la variable y. Se ejeuta X.shape para comprobar la dimensión de la matriz con datos de entrada de 170 registros por 4 columnas."
   ]
  },
  {
   "cell_type": "code",
   "execution_count": 11,
   "metadata": {
    "colab": {
     "base_uri": "https://localhost:8080/"
    },
    "executionInfo": {
     "elapsed": 460,
     "status": "ok",
     "timestamp": 1606957234310,
     "user": {
      "displayName": "JESUS EDUARDO GARCIA ALARCON",
      "photoUrl": "",
      "userId": "12415586076040389331"
     },
     "user_tz": 360
    },
    "id": "0ju2MJrGHW2e",
    "outputId": "bbbac1f7-a0c5-4352-8aa0-a58cc84f96d4"
   },
   "outputs": [
    {
     "data": {
      "text/plain": [
       "(170, 4)"
      ]
     },
     "execution_count": 11,
     "metadata": {
      "tags": []
     },
     "output_type": "execute_result"
    }
   ],
   "source": [
    "X = np.array(dataframe.drop(['clase'],1))\n",
    "Y = np.array(dataframe['clase'])\n",
    "X.shape"
   ]
  },
  {
   "cell_type": "markdown",
   "metadata": {
    "id": "Pco6VYTmHZXp"
   },
   "source": [
    "Se crea el modelo de regresión logística con la variable Y y con ajuste (fit) del conjunto de entradas 'X' y salidas 'y'."
   ]
  },
  {
   "cell_type": "code",
   "execution_count": 12,
   "metadata": {
    "colab": {
     "base_uri": "https://localhost:8080/"
    },
    "executionInfo": {
     "elapsed": 462,
     "status": "ok",
     "timestamp": 1606957252481,
     "user": {
      "displayName": "JESUS EDUARDO GARCIA ALARCON",
      "photoUrl": "",
      "userId": "12415586076040389331"
     },
     "user_tz": 360
    },
    "id": "n0lF5vrVHbZK",
    "outputId": "00e9db7c-391f-46c7-86e0-c4f339b52144"
   },
   "outputs": [
    {
     "data": {
      "text/plain": [
       "LogisticRegression(C=1.0, class_weight=None, dual=False, fit_intercept=True,\n",
       "                   intercept_scaling=1, l1_ratio=None, max_iter=100,\n",
       "                   multi_class='auto', n_jobs=None, penalty='l2',\n",
       "                   random_state=None, solver='lbfgs', tol=0.0001, verbose=0,\n",
       "                   warm_start=False)"
      ]
     },
     "execution_count": 12,
     "metadata": {
      "tags": []
     },
     "output_type": "execute_result"
    }
   ],
   "source": [
    "modelo = linear_model.LogisticRegression()\n",
    "modelo.fit(X,Y)"
   ]
  },
  {
   "cell_type": "markdown",
   "metadata": {
    "id": "UiGjYxhwHd0z"
   },
   "source": [
    "Realizar predicciones y verificar con el conjunto original"
   ]
  },
  {
   "cell_type": "code",
   "execution_count": 13,
   "metadata": {
    "colab": {
     "base_uri": "https://localhost:8080/",
     "height": 1000
    },
    "executionInfo": {
     "elapsed": 449,
     "status": "ok",
     "timestamp": 1606957273306,
     "user": {
      "displayName": "JESUS EDUARDO GARCIA ALARCON",
      "photoUrl": "",
      "userId": "12415586076040389331"
     },
     "user_tz": 360
    },
    "id": "IblWHUSBHgRl",
    "outputId": "45299588-4070-40b0-b075-530ff94890f6"
   },
   "outputs": [
    {
     "data": {
      "text/html": [
       "<div>\n",
       "<style scoped>\n",
       "    .dataframe tbody tr th:only-of-type {\n",
       "        vertical-align: middle;\n",
       "    }\n",
       "\n",
       "    .dataframe tbody tr th {\n",
       "        vertical-align: top;\n",
       "    }\n",
       "\n",
       "    .dataframe thead th {\n",
       "        text-align: right;\n",
       "    }\n",
       "</style>\n",
       "<table border=\"1\" class=\"dataframe\">\n",
       "  <thead>\n",
       "    <tr style=\"text-align: right;\">\n",
       "      <th></th>\n",
       "      <th>duracion</th>\n",
       "      <th>paginas</th>\n",
       "      <th>acciones</th>\n",
       "      <th>valor</th>\n",
       "      <th>clase</th>\n",
       "      <th>prediccion</th>\n",
       "    </tr>\n",
       "  </thead>\n",
       "  <tbody>\n",
       "    <tr>\n",
       "      <th>0</th>\n",
       "      <td>7.000</td>\n",
       "      <td>2</td>\n",
       "      <td>4</td>\n",
       "      <td>8</td>\n",
       "      <td>2</td>\n",
       "      <td>2</td>\n",
       "    </tr>\n",
       "    <tr>\n",
       "      <th>1</th>\n",
       "      <td>21.000</td>\n",
       "      <td>2</td>\n",
       "      <td>6</td>\n",
       "      <td>6</td>\n",
       "      <td>2</td>\n",
       "      <td>2</td>\n",
       "    </tr>\n",
       "    <tr>\n",
       "      <th>2</th>\n",
       "      <td>57.000</td>\n",
       "      <td>2</td>\n",
       "      <td>4</td>\n",
       "      <td>4</td>\n",
       "      <td>2</td>\n",
       "      <td>2</td>\n",
       "    </tr>\n",
       "    <tr>\n",
       "      <th>3</th>\n",
       "      <td>101.000</td>\n",
       "      <td>3</td>\n",
       "      <td>6</td>\n",
       "      <td>12</td>\n",
       "      <td>2</td>\n",
       "      <td>2</td>\n",
       "    </tr>\n",
       "    <tr>\n",
       "      <th>4</th>\n",
       "      <td>109.000</td>\n",
       "      <td>2</td>\n",
       "      <td>6</td>\n",
       "      <td>12</td>\n",
       "      <td>2</td>\n",
       "      <td>2</td>\n",
       "    </tr>\n",
       "    <tr>\n",
       "      <th>5</th>\n",
       "      <td>125.000</td>\n",
       "      <td>5</td>\n",
       "      <td>10</td>\n",
       "      <td>20</td>\n",
       "      <td>2</td>\n",
       "      <td>2</td>\n",
       "    </tr>\n",
       "    <tr>\n",
       "      <th>6</th>\n",
       "      <td>133.000</td>\n",
       "      <td>2</td>\n",
       "      <td>2</td>\n",
       "      <td>4</td>\n",
       "      <td>2</td>\n",
       "      <td>2</td>\n",
       "    </tr>\n",
       "    <tr>\n",
       "      <th>7</th>\n",
       "      <td>162.000</td>\n",
       "      <td>2</td>\n",
       "      <td>6</td>\n",
       "      <td>12</td>\n",
       "      <td>2</td>\n",
       "      <td>2</td>\n",
       "    </tr>\n",
       "    <tr>\n",
       "      <th>8</th>\n",
       "      <td>170.000</td>\n",
       "      <td>2</td>\n",
       "      <td>4</td>\n",
       "      <td>8</td>\n",
       "      <td>2</td>\n",
       "      <td>2</td>\n",
       "    </tr>\n",
       "    <tr>\n",
       "      <th>9</th>\n",
       "      <td>217.000</td>\n",
       "      <td>2</td>\n",
       "      <td>6</td>\n",
       "      <td>6</td>\n",
       "      <td>2</td>\n",
       "      <td>2</td>\n",
       "    </tr>\n",
       "    <tr>\n",
       "      <th>10</th>\n",
       "      <td>266.000</td>\n",
       "      <td>2</td>\n",
       "      <td>6</td>\n",
       "      <td>12</td>\n",
       "      <td>2</td>\n",
       "      <td>2</td>\n",
       "    </tr>\n",
       "    <tr>\n",
       "      <th>11</th>\n",
       "      <td>335.000</td>\n",
       "      <td>4</td>\n",
       "      <td>12</td>\n",
       "      <td>24</td>\n",
       "      <td>2</td>\n",
       "      <td>2</td>\n",
       "    </tr>\n",
       "    <tr>\n",
       "      <th>12</th>\n",
       "      <td>553.000</td>\n",
       "      <td>4</td>\n",
       "      <td>12</td>\n",
       "      <td>24</td>\n",
       "      <td>2</td>\n",
       "      <td>2</td>\n",
       "    </tr>\n",
       "    <tr>\n",
       "      <th>13</th>\n",
       "      <td>798.000</td>\n",
       "      <td>5</td>\n",
       "      <td>15</td>\n",
       "      <td>15</td>\n",
       "      <td>2</td>\n",
       "      <td>2</td>\n",
       "    </tr>\n",
       "    <tr>\n",
       "      <th>14</th>\n",
       "      <td>872.000</td>\n",
       "      <td>2</td>\n",
       "      <td>6</td>\n",
       "      <td>6</td>\n",
       "      <td>2</td>\n",
       "      <td>2</td>\n",
       "    </tr>\n",
       "    <tr>\n",
       "      <th>15</th>\n",
       "      <td>1.105</td>\n",
       "      <td>2</td>\n",
       "      <td>4</td>\n",
       "      <td>8</td>\n",
       "      <td>2</td>\n",
       "      <td>2</td>\n",
       "    </tr>\n",
       "    <tr>\n",
       "      <th>16</th>\n",
       "      <td>2.091</td>\n",
       "      <td>5</td>\n",
       "      <td>5</td>\n",
       "      <td>5</td>\n",
       "      <td>2</td>\n",
       "      <td>2</td>\n",
       "    </tr>\n",
       "    <tr>\n",
       "      <th>17</th>\n",
       "      <td>21.000</td>\n",
       "      <td>2</td>\n",
       "      <td>4</td>\n",
       "      <td>12</td>\n",
       "      <td>1</td>\n",
       "      <td>0</td>\n",
       "    </tr>\n",
       "    <tr>\n",
       "      <th>18</th>\n",
       "      <td>33.000</td>\n",
       "      <td>2</td>\n",
       "      <td>8</td>\n",
       "      <td>48</td>\n",
       "      <td>1</td>\n",
       "      <td>0</td>\n",
       "    </tr>\n",
       "    <tr>\n",
       "      <th>19</th>\n",
       "      <td>49.000</td>\n",
       "      <td>2</td>\n",
       "      <td>8</td>\n",
       "      <td>32</td>\n",
       "      <td>1</td>\n",
       "      <td>0</td>\n",
       "    </tr>\n",
       "    <tr>\n",
       "      <th>20</th>\n",
       "      <td>74.000</td>\n",
       "      <td>2</td>\n",
       "      <td>6</td>\n",
       "      <td>18</td>\n",
       "      <td>1</td>\n",
       "      <td>0</td>\n",
       "    </tr>\n",
       "    <tr>\n",
       "      <th>21</th>\n",
       "      <td>93.000</td>\n",
       "      <td>2</td>\n",
       "      <td>12</td>\n",
       "      <td>96</td>\n",
       "      <td>1</td>\n",
       "      <td>1</td>\n",
       "    </tr>\n",
       "    <tr>\n",
       "      <th>22</th>\n",
       "      <td>145.000</td>\n",
       "      <td>2</td>\n",
       "      <td>10</td>\n",
       "      <td>30</td>\n",
       "      <td>1</td>\n",
       "      <td>0</td>\n",
       "    </tr>\n",
       "    <tr>\n",
       "      <th>23</th>\n",
       "      <td>152.000</td>\n",
       "      <td>2</td>\n",
       "      <td>4</td>\n",
       "      <td>20</td>\n",
       "      <td>1</td>\n",
       "      <td>1</td>\n",
       "    </tr>\n",
       "    <tr>\n",
       "      <th>24</th>\n",
       "      <td>208.000</td>\n",
       "      <td>2</td>\n",
       "      <td>10</td>\n",
       "      <td>30</td>\n",
       "      <td>1</td>\n",
       "      <td>0</td>\n",
       "    </tr>\n",
       "    <tr>\n",
       "      <th>25</th>\n",
       "      <td>219.000</td>\n",
       "      <td>3</td>\n",
       "      <td>9</td>\n",
       "      <td>54</td>\n",
       "      <td>1</td>\n",
       "      <td>1</td>\n",
       "    </tr>\n",
       "    <tr>\n",
       "      <th>26</th>\n",
       "      <td>235.000</td>\n",
       "      <td>6</td>\n",
       "      <td>12</td>\n",
       "      <td>96</td>\n",
       "      <td>1</td>\n",
       "      <td>1</td>\n",
       "    </tr>\n",
       "    <tr>\n",
       "      <th>27</th>\n",
       "      <td>257.000</td>\n",
       "      <td>2</td>\n",
       "      <td>12</td>\n",
       "      <td>48</td>\n",
       "      <td>1</td>\n",
       "      <td>0</td>\n",
       "    </tr>\n",
       "    <tr>\n",
       "      <th>28</th>\n",
       "      <td>266.000</td>\n",
       "      <td>2</td>\n",
       "      <td>4</td>\n",
       "      <td>12</td>\n",
       "      <td>1</td>\n",
       "      <td>1</td>\n",
       "    </tr>\n",
       "    <tr>\n",
       "      <th>29</th>\n",
       "      <td>275.000</td>\n",
       "      <td>4</td>\n",
       "      <td>24</td>\n",
       "      <td>144</td>\n",
       "      <td>1</td>\n",
       "      <td>1</td>\n",
       "    </tr>\n",
       "    <tr>\n",
       "      <th>30</th>\n",
       "      <td>355.000</td>\n",
       "      <td>2</td>\n",
       "      <td>4</td>\n",
       "      <td>16</td>\n",
       "      <td>1</td>\n",
       "      <td>1</td>\n",
       "    </tr>\n",
       "    <tr>\n",
       "      <th>31</th>\n",
       "      <td>473.000</td>\n",
       "      <td>3</td>\n",
       "      <td>6</td>\n",
       "      <td>30</td>\n",
       "      <td>1</td>\n",
       "      <td>1</td>\n",
       "    </tr>\n",
       "    <tr>\n",
       "      <th>32</th>\n",
       "      <td>485.000</td>\n",
       "      <td>2</td>\n",
       "      <td>6</td>\n",
       "      <td>30</td>\n",
       "      <td>1</td>\n",
       "      <td>1</td>\n",
       "    </tr>\n",
       "    <tr>\n",
       "      <th>33</th>\n",
       "      <td>652.000</td>\n",
       "      <td>2</td>\n",
       "      <td>6</td>\n",
       "      <td>24</td>\n",
       "      <td>1</td>\n",
       "      <td>1</td>\n",
       "    </tr>\n",
       "    <tr>\n",
       "      <th>34</th>\n",
       "      <td>848.000</td>\n",
       "      <td>3</td>\n",
       "      <td>18</td>\n",
       "      <td>54</td>\n",
       "      <td>1</td>\n",
       "      <td>0</td>\n",
       "    </tr>\n",
       "    <tr>\n",
       "      <th>35</th>\n",
       "      <td>2.000</td>\n",
       "      <td>2</td>\n",
       "      <td>2</td>\n",
       "      <td>2</td>\n",
       "      <td>2</td>\n",
       "      <td>2</td>\n",
       "    </tr>\n",
       "    <tr>\n",
       "      <th>36</th>\n",
       "      <td>9.000</td>\n",
       "      <td>1</td>\n",
       "      <td>1</td>\n",
       "      <td>1</td>\n",
       "      <td>2</td>\n",
       "      <td>2</td>\n",
       "    </tr>\n",
       "    <tr>\n",
       "      <th>37</th>\n",
       "      <td>739.000</td>\n",
       "      <td>5</td>\n",
       "      <td>15</td>\n",
       "      <td>15</td>\n",
       "      <td>2</td>\n",
       "      <td>2</td>\n",
       "    </tr>\n",
       "    <tr>\n",
       "      <th>38</th>\n",
       "      <td>898.000</td>\n",
       "      <td>2</td>\n",
       "      <td>2</td>\n",
       "      <td>2</td>\n",
       "      <td>2</td>\n",
       "      <td>2</td>\n",
       "    </tr>\n",
       "    <tr>\n",
       "      <th>39</th>\n",
       "      <td>1.401</td>\n",
       "      <td>6</td>\n",
       "      <td>6</td>\n",
       "      <td>6</td>\n",
       "      <td>2</td>\n",
       "      <td>2</td>\n",
       "    </tr>\n",
       "    <tr>\n",
       "      <th>40</th>\n",
       "      <td>11.000</td>\n",
       "      <td>2</td>\n",
       "      <td>10</td>\n",
       "      <td>40</td>\n",
       "      <td>1</td>\n",
       "      <td>0</td>\n",
       "    </tr>\n",
       "    <tr>\n",
       "      <th>41</th>\n",
       "      <td>31.000</td>\n",
       "      <td>2</td>\n",
       "      <td>6</td>\n",
       "      <td>30</td>\n",
       "      <td>1</td>\n",
       "      <td>0</td>\n",
       "    </tr>\n",
       "    <tr>\n",
       "      <th>42</th>\n",
       "      <td>51.000</td>\n",
       "      <td>2</td>\n",
       "      <td>4</td>\n",
       "      <td>20</td>\n",
       "      <td>1</td>\n",
       "      <td>0</td>\n",
       "    </tr>\n",
       "    <tr>\n",
       "      <th>43</th>\n",
       "      <td>89.000</td>\n",
       "      <td>3</td>\n",
       "      <td>18</td>\n",
       "      <td>144</td>\n",
       "      <td>1</td>\n",
       "      <td>1</td>\n",
       "    </tr>\n",
       "    <tr>\n",
       "      <th>44</th>\n",
       "      <td>112.000</td>\n",
       "      <td>2</td>\n",
       "      <td>6</td>\n",
       "      <td>18</td>\n",
       "      <td>1</td>\n",
       "      <td>0</td>\n",
       "    </tr>\n",
       "    <tr>\n",
       "      <th>45</th>\n",
       "      <td>278.000</td>\n",
       "      <td>2</td>\n",
       "      <td>4</td>\n",
       "      <td>28</td>\n",
       "      <td>1</td>\n",
       "      <td>1</td>\n",
       "    </tr>\n",
       "    <tr>\n",
       "      <th>46</th>\n",
       "      <td>674.000</td>\n",
       "      <td>3</td>\n",
       "      <td>18</td>\n",
       "      <td>72</td>\n",
       "      <td>1</td>\n",
       "      <td>0</td>\n",
       "    </tr>\n",
       "    <tr>\n",
       "      <th>47</th>\n",
       "      <td>1.088</td>\n",
       "      <td>2</td>\n",
       "      <td>8</td>\n",
       "      <td>64</td>\n",
       "      <td>1</td>\n",
       "      <td>1</td>\n",
       "    </tr>\n",
       "    <tr>\n",
       "      <th>48</th>\n",
       "      <td>1.294</td>\n",
       "      <td>2</td>\n",
       "      <td>6</td>\n",
       "      <td>18</td>\n",
       "      <td>1</td>\n",
       "      <td>0</td>\n",
       "    </tr>\n",
       "    <tr>\n",
       "      <th>49</th>\n",
       "      <td>1.000</td>\n",
       "      <td>2</td>\n",
       "      <td>18</td>\n",
       "      <td>36</td>\n",
       "      <td>0</td>\n",
       "      <td>0</td>\n",
       "    </tr>\n",
       "    <tr>\n",
       "      <th>50</th>\n",
       "      <td>2.000</td>\n",
       "      <td>2</td>\n",
       "      <td>20</td>\n",
       "      <td>120</td>\n",
       "      <td>0</td>\n",
       "      <td>0</td>\n",
       "    </tr>\n",
       "  </tbody>\n",
       "</table>\n",
       "</div>"
      ],
      "text/plain": [
       "    duracion  paginas  acciones  valor  clase  prediccion\n",
       "0      7.000        2         4      8      2           2\n",
       "1     21.000        2         6      6      2           2\n",
       "2     57.000        2         4      4      2           2\n",
       "3    101.000        3         6     12      2           2\n",
       "4    109.000        2         6     12      2           2\n",
       "5    125.000        5        10     20      2           2\n",
       "6    133.000        2         2      4      2           2\n",
       "7    162.000        2         6     12      2           2\n",
       "8    170.000        2         4      8      2           2\n",
       "9    217.000        2         6      6      2           2\n",
       "10   266.000        2         6     12      2           2\n",
       "11   335.000        4        12     24      2           2\n",
       "12   553.000        4        12     24      2           2\n",
       "13   798.000        5        15     15      2           2\n",
       "14   872.000        2         6      6      2           2\n",
       "15     1.105        2         4      8      2           2\n",
       "16     2.091        5         5      5      2           2\n",
       "17    21.000        2         4     12      1           0\n",
       "18    33.000        2         8     48      1           0\n",
       "19    49.000        2         8     32      1           0\n",
       "20    74.000        2         6     18      1           0\n",
       "21    93.000        2        12     96      1           1\n",
       "22   145.000        2        10     30      1           0\n",
       "23   152.000        2         4     20      1           1\n",
       "24   208.000        2        10     30      1           0\n",
       "25   219.000        3         9     54      1           1\n",
       "26   235.000        6        12     96      1           1\n",
       "27   257.000        2        12     48      1           0\n",
       "28   266.000        2         4     12      1           1\n",
       "29   275.000        4        24    144      1           1\n",
       "30   355.000        2         4     16      1           1\n",
       "31   473.000        3         6     30      1           1\n",
       "32   485.000        2         6     30      1           1\n",
       "33   652.000        2         6     24      1           1\n",
       "34   848.000        3        18     54      1           0\n",
       "35     2.000        2         2      2      2           2\n",
       "36     9.000        1         1      1      2           2\n",
       "37   739.000        5        15     15      2           2\n",
       "38   898.000        2         2      2      2           2\n",
       "39     1.401        6         6      6      2           2\n",
       "40    11.000        2        10     40      1           0\n",
       "41    31.000        2         6     30      1           0\n",
       "42    51.000        2         4     20      1           0\n",
       "43    89.000        3        18    144      1           1\n",
       "44   112.000        2         6     18      1           0\n",
       "45   278.000        2         4     28      1           1\n",
       "46   674.000        3        18     72      1           0\n",
       "47     1.088        2         8     64      1           1\n",
       "48     1.294        2         6     18      1           0\n",
       "49     1.000        2        18     36      0           0\n",
       "50     2.000        2        20    120      0           0"
      ]
     },
     "execution_count": 13,
     "metadata": {
      "tags": []
     },
     "output_type": "execute_result"
    }
   ],
   "source": [
    "predicciones = modelo.predict(X)\n",
    "\n",
    "dataframe['prediccion'] = predicciones\n",
    "\n",
    "dataframe.loc[0:50, ['duracion', 'paginas', 'acciones', 'valor', 'clase', 'prediccion']] # Columna clase"
   ]
  },
  {
   "cell_type": "markdown",
   "metadata": {
    "id": "57NeBEh3Hkxr"
   },
   "source": [
    "#### Evaluar el modelo\n",
    "Con la función model.score() se evalúa que tan bueno es el modelo"
   ]
  },
  {
   "cell_type": "code",
   "execution_count": 14,
   "metadata": {
    "colab": {
     "base_uri": "https://localhost:8080/"
    },
    "executionInfo": {
     "elapsed": 424,
     "status": "ok",
     "timestamp": 1606957316548,
     "user": {
      "displayName": "JESUS EDUARDO GARCIA ALARCON",
      "photoUrl": "",
      "userId": "12415586076040389331"
     },
     "user_tz": 360
    },
    "id": "Xbvlfp4mHq_f",
    "outputId": "202ea218-98e6-45ac-b90e-38493e710675"
   },
   "outputs": [
    {
     "name": "stdout",
     "output_type": "stream",
     "text": [
      "El modelo es preciso en un  78.2353 %\n"
     ]
    }
   ],
   "source": [
    "print(\"El modelo es preciso en un \", round(modelo.score(X,Y) * 100, 4), \"%\")"
   ]
  },
  {
   "cell_type": "markdown",
   "metadata": {
    "id": "p891lsYOHtZS"
   },
   "source": [
    "En Machine Learning subdividir el conjunto de datos de entrada en un set de entrenamiento y otro para validar el modelo (que no se utiliza durante el entrenamiento y por lo tanto la máquina desconoce). Esto evitará problemas en los que el algoritmo pueda fallar por “sobregeneralizar” el conocimiento. Para ello, se dividen los datos de entrada en forma aleatoria (mezclados) utilizando 70% u 80% de registros para entrenamiento y 30% o 20% para validar [Bagnato, 2020]."
   ]
  },
  {
   "cell_type": "code",
   "execution_count": 15,
   "metadata": {
    "executionInfo": {
     "elapsed": 458,
     "status": "ok",
     "timestamp": 1606957340354,
     "user": {
      "displayName": "JESUS EDUARDO GARCIA ALARCON",
      "photoUrl": "",
      "userId": "12415586076040389331"
     },
     "user_tz": 360
    },
    "id": "lXh-bXwzHwmJ"
   },
   "outputs": [],
   "source": [
    "validation_size = 0.20\n",
    "seed = 7\n",
    "X_train, X_validation, Y_train, Y_validation = model_selection.train_test_split(X, Y, test_size=validation_size, random_state=seed)"
   ]
  },
  {
   "cell_type": "code",
   "execution_count": 16,
   "metadata": {
    "colab": {
     "base_uri": "https://localhost:8080/"
    },
    "executionInfo": {
     "elapsed": 817,
     "status": "ok",
     "timestamp": 1606957349367,
     "user": {
      "displayName": "JESUS EDUARDO GARCIA ALARCON",
      "photoUrl": "",
      "userId": "12415586076040389331"
     },
     "user_tz": 360
    },
    "id": "l-r6IBR2Hy1N",
    "outputId": "e9929797-e9e3-4090-e7ce-43799afce64d"
   },
   "outputs": [
    {
     "name": "stdout",
     "output_type": "stream",
     "text": [
      "Logistic Regression: 0.728571 (0.094186)\n"
     ]
    }
   ],
   "source": [
    "name='Logistic Regression'\n",
    "kfold = model_selection.KFold(n_splits=10, random_state=seed)\n",
    "cv_results = model_selection.cross_val_score(modelo, X_train, Y_train, cv=kfold, scoring='accuracy')\n",
    "msg = \"%s: %f (%f)\" % (name, cv_results.mean(), cv_results.std())\n",
    "print(msg)"
   ]
  },
  {
   "cell_type": "markdown",
   "metadata": {
    "id": "9JSPGEdDH3JJ"
   },
   "source": [
    "Con el 80% de los datos de entrada el modelo de regresión logística es capaz de ser preciso en un 72%"
   ]
  },
  {
   "cell_type": "code",
   "execution_count": 17,
   "metadata": {
    "colab": {
     "base_uri": "https://localhost:8080/"
    },
    "executionInfo": {
     "elapsed": 454,
     "status": "ok",
     "timestamp": 1606957385143,
     "user": {
      "displayName": "JESUS EDUARDO GARCIA ALARCON",
      "photoUrl": "",
      "userId": "12415586076040389331"
     },
     "user_tz": 360
    },
    "id": "3gvatDQzH7yi",
    "outputId": "2f01b31f-eb4b-4efc-ca38-2d1842560b8e"
   },
   "outputs": [
    {
     "name": "stdout",
     "output_type": "stream",
     "text": [
      "0.8529411764705882\n"
     ]
    }
   ],
   "source": [
    "predicciones = modelo.predict(X_validation)\n",
    "print(accuracy_score(Y_validation, predicciones))"
   ]
  },
  {
   "cell_type": "markdown",
   "metadata": {
    "id": "HoSTOuVKH-Ne"
   },
   "source": [
    "La \"matriz de confusión\" muestra cuantos resultados equivocados tuvo de cada clase (los que no están en la diagonal), por ejemplo predijo 3 usuarios que eran Mac como usuarios de Windows y predijo a 2 usuarios Linux que realmente eran de Windows [Bagnato, 2020].\n",
    "\n"
   ]
  },
  {
   "cell_type": "code",
   "execution_count": 18,
   "metadata": {
    "colab": {
     "base_uri": "https://localhost:8080/"
    },
    "executionInfo": {
     "elapsed": 472,
     "status": "ok",
     "timestamp": 1606957405835,
     "user": {
      "displayName": "JESUS EDUARDO GARCIA ALARCON",
      "photoUrl": "",
      "userId": "12415586076040389331"
     },
     "user_tz": 360
    },
    "id": "2mm3ZCDNIAh9",
    "outputId": "ee95797c-f0fd-4d26-a6f5-4be4fbe9a277"
   },
   "outputs": [
    {
     "name": "stdout",
     "output_type": "stream",
     "text": [
      "[[16  0  2]\n",
      " [ 3  3  0]\n",
      " [ 0  0 10]]\n"
     ]
    }
   ],
   "source": [
    "print(confusion_matrix(Y_validation, predicciones))"
   ]
  },
  {
   "cell_type": "markdown",
   "metadata": {
    "id": "2uYIScspIDaq"
   },
   "source": [
    "También podemos ver el reporte de clasificación con nuestro conjunto de Validación. En nuestro caso vemos que se utilizaron como “soporte” 18 registros windows, 6 de mac y 10 de Linux (total de 34 registros). Podemos ver la precisión con que se acertaron cada una de las clases y vemos que por ejemplo de Macintosh tuvo 3 aciertos y 3 fallos (0.5 recall). La valoración que de aqui nos conviene tener en cuenta es la de F1-score⁷⁰, que tiene en cuenta la precisión y recall. El promedio de F1 es de 84% lo cual no está nada mal. [Bagnato, 2020]."
   ]
  },
  {
   "cell_type": "code",
   "execution_count": 19,
   "metadata": {
    "colab": {
     "base_uri": "https://localhost:8080/"
    },
    "executionInfo": {
     "elapsed": 436,
     "status": "ok",
     "timestamp": 1606957432453,
     "user": {
      "displayName": "JESUS EDUARDO GARCIA ALARCON",
      "photoUrl": "",
      "userId": "12415586076040389331"
     },
     "user_tz": 360
    },
    "id": "mVRErqdIIHY5",
    "outputId": "8f74659e-4874-45a1-92af-6fbd7f5ecba7"
   },
   "outputs": [
    {
     "name": "stdout",
     "output_type": "stream",
     "text": [
      "              precision    recall  f1-score   support\n",
      "\n",
      "           0       0.84      0.89      0.86        18\n",
      "           1       1.00      0.50      0.67         6\n",
      "           2       0.83      1.00      0.91        10\n",
      "\n",
      "    accuracy                           0.85        34\n",
      "   macro avg       0.89      0.80      0.81        34\n",
      "weighted avg       0.87      0.85      0.84        34\n",
      "\n"
     ]
    }
   ],
   "source": [
    "print(classification_report(Y_validation, predicciones))"
   ]
  },
  {
   "cell_type": "markdown",
   "metadata": {
    "id": "e1xvqxxhIQiy"
   },
   "source": [
    "#### Prediccion con nuevos valores\n",
    "\n",
    "* Tiempo Duración: 120\n",
    "* Paginas visitadas: 30\n",
    "* Acciones al navegar: 40\n",
    "* Valoración: 10"
   ]
  },
  {
   "cell_type": "code",
   "execution_count": 21,
   "metadata": {
    "colab": {
     "base_uri": "https://localhost:8080/"
    },
    "executionInfo": {
     "elapsed": 448,
     "status": "ok",
     "timestamp": 1606958117781,
     "user": {
      "displayName": "JESUS EDUARDO GARCIA ALARCON",
      "photoUrl": "",
      "userId": "12415586076040389331"
     },
     "user_tz": 360
    },
    "id": "FoTZL_APIVwH",
    "outputId": "9866d41e-050a-49a7-ad35-fbeedb5cea2c"
   },
   "outputs": [
    {
     "name": "stdout",
     "output_type": "stream",
     "text": [
      "La predicción es de tipo sistema operativo:  [2]\n"
     ]
    }
   ],
   "source": [
    "X_new = pd.DataFrame({'duracion': [120], 'paginas': [30], 'acciones': [40], 'valor': [10]})\n",
    "print(\"La predicción es de tipo sistema operativo: \", modelo.predict(X_new))"
   ]
  },
  {
   "cell_type": "markdown",
   "metadata": {
    "id": "qj2u6QI_Icjl"
   },
   "source": [
    "##### 0 - Windows\n",
    "##### 1 - Macintosh\n",
    "##### 2 - Linux"
   ]
  },
  {
   "cell_type": "markdown",
   "metadata": {
    "id": "z1-ccJo_IgtU"
   },
   "source": [
    "## Interpretacion\n",
    "\n",
    "##### Con los siguientes conjuntos de datos continua de los sistemas operativos como lo son 0.-Windows 1.-Mac 2.-Linux. Incluye como variables principales la duracion en la visita, cantidad de paginas en la sesion, Acciones del usuario y suma de la acciones. La cantidad de registros en windows es 86, en mac 40 y en linux 44. Como Sistema mas utilizado segun nuestro registro es Windows y mac el ultimo. Se hicieron distintos graficos donde la interaccion de la duracion siempre se encuentra en un rango de 0 a 200 principalmente con mac y linux con mayor flujo en su uso, en la cantidad de paginas la influencia de windows es mayor que en los demas por mucho (se visitan mas paginas en el sistema de windows), en acciones el SO de windows se utiliza mucho mas que los otros. Se genera el modelo de regresion logistica para identificar la prediccion que dio como resultado que la prediccion tiene una precision del 78.23. \n",
    "La prediccion funciona de tal manera que al ingresar un valor de duracion, paginas visitadas, acciones al navegar y la valoracion nos tiene que decir que sistema operativo puede estar utilizando. ."
   ]
  },
  {
   "cell_type": "markdown",
   "metadata": {
    "id": "M5_vn0Q3YqoH"
   },
   "source": [
    "#### Bibliografia\n",
    "https://colab.research.google.com/drive/1Hu2yfBbFp4P_7xkrInKE-V8icJG3CpzT#scrollTo=zzlPLDuJvOz4"
   ]
  }
 ],
 "metadata": {
  "colab": {
   "authorship_tag": "ABX9TyN92ENQPzIHZOYcQ0uJKCIz",
   "collapsed_sections": [],
   "name": "Regresion logistica en Python.ipynb",
   "provenance": []
  },
  "kernelspec": {
   "display_name": "Python 3",
   "language": "python",
   "name": "python3"
  },
  "language_info": {
   "codemirror_mode": {
    "name": "ipython",
    "version": 3
   },
   "file_extension": ".py",
   "mimetype": "text/x-python",
   "name": "python",
   "nbconvert_exporter": "python",
   "pygments_lexer": "ipython3",
   "version": "3.7.6"
  }
 },
 "nbformat": 4,
 "nbformat_minor": 1
}
